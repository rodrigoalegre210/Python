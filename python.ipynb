{
 "cells": [
  {
   "cell_type": "markdown",
   "metadata": {},
   "source": [
    "#### Ejercicio 1: Suma de números en un rango.\n",
    "\n",
    "Escribe una función que reciba dos números enteros, **a** y **b**, y retorne la suma de todos los enteros entre ellos, incluyendo **a** y **b**.\n",
    "\n",
    "Condiciones:\n",
    "\n",
    "* Si **a** es mayor que **b**, intercambialos antes de sumar.\n",
    "* Si **a** y **b** son iguales, la función debe retornar solo ese número."
   ]
  },
  {
   "cell_type": "code",
   "execution_count": 1,
   "metadata": {},
   "outputs": [],
   "source": [
    "def sumar_rango(a, b):\n",
    "    \n",
    "    if a > b:\n",
    "        a, b = b, a # Intercambiamos los valores si están en orden inverso.\n",
    "    return sum(range(a, b + 1))"
   ]
  },
  {
   "cell_type": "code",
   "execution_count": null,
   "metadata": {},
   "outputs": [
    {
     "name": "stdout",
     "output_type": "stream",
     "text": [
      "15\n",
      "15\n",
      "3\n"
     ]
    }
   ],
   "source": [
    "# Purebas.\n",
    "print(sumar_rango(1, 5))\n",
    "print(sumar_rango(5, 1))\n",
    "print(sumar_rango(3, 3))"
   ]
  },
  {
   "cell_type": "markdown",
   "metadata": {},
   "source": [
    "#### Ejercicio 2: Números felices.\n",
    "\n",
    "Un número se llama feliz si, al reemplazarlo repetidamente por la suma de los cuadrados de sus dígitos, eventualmente se convierte en 1. Si entra en un ciclo sin llegar a 1, se considera un número infeliz.\n",
    "\n",
    "Ejemplo de entrada y salida:\n",
    "\n",
    "es_feliz(19)  # Devuelve True, porque sigue la secuencia: 19 → 82 → 68 → 100 → 1  \n",
    "es_feliz(2)   # Devuelve False, porque entra en un ciclo infinito"
   ]
  },
  {
   "cell_type": "code",
   "execution_count": 3,
   "metadata": {},
   "outputs": [],
   "source": [
    "def es_feliz(numero):\n",
    "\n",
    "    visitados = set()\n",
    "\n",
    "    while numero != 1 and numero not in visitados:\n",
    "        visitados.add(numero)\n",
    "        numero = sum(int(digito) ** 2 for digito in str(numero)) # Calcula la suma de los cuadrados de los dígitos\n",
    "\n",
    "    return numero == 1"
   ]
  },
  {
   "cell_type": "code",
   "execution_count": 4,
   "metadata": {},
   "outputs": [
    {
     "name": "stdout",
     "output_type": "stream",
     "text": [
      "True\n",
      "False\n",
      "True\n"
     ]
    }
   ],
   "source": [
    "# Pruebas.\n",
    "print(es_feliz(19))\n",
    "print(es_feliz(2))\n",
    "print(es_feliz(7))"
   ]
  },
  {
   "cell_type": "markdown",
   "metadata": {},
   "source": [
    "#### Ejercicio 3: Mayor secuencia de dígitos consecutivos en un string.\n",
    "\n",
    "Dado un string que contiene letras y números, encuentra la secuencia de dígitos consecutivos más larga y retorna su valor como un string."
   ]
  },
  {
   "cell_type": "code",
   "execution_count": 5,
   "metadata": {},
   "outputs": [],
   "source": [
    "import re\n",
    "\n",
    "def numeros_consecutivos(texto):\n",
    "\n",
    "    secuencias = re.findall(r'\\d+', texto)\n",
    "    return max(secuencias, key = len, default = '')"
   ]
  },
  {
   "cell_type": "code",
   "execution_count": 6,
   "metadata": {},
   "outputs": [
    {
     "name": "stdout",
     "output_type": "stream",
     "text": [
      "12345\n",
      "333\n",
      "\n",
      "3456\n"
     ]
    }
   ],
   "source": [
    "# Pruebas.\n",
    "print(numeros_consecutivos(\"abc12345def67\"))\n",
    "print(numeros_consecutivos(\"a1b22c333\"))\n",
    "print(numeros_consecutivos(\"abcdef\"))\n",
    "print(numeros_consecutivos(\"12a3456b78\"))"
   ]
  },
  {
   "cell_type": "markdown",
   "metadata": {},
   "source": [
    "#### Ejercicio 4: Primer carácter no repetido.\n",
    "\n",
    "Dado un string, encuentra el primer carácter que no se repite y devuelve ese carácter. Si todos los caracteres se repiten, devuelve None."
   ]
  },
  {
   "cell_type": "code",
   "execution_count": 7,
   "metadata": {},
   "outputs": [],
   "source": [
    "from collections import Counter\n",
    "\n",
    "def cararcter_no_repetido(texto):\n",
    "\n",
    "    conteo = Counter(texto) # Contamos la frecuencia de cada carácter.\n",
    "    for c in conteo:\n",
    "        if conteo[c] == 1:\n",
    "            return c\n",
    "        \n",
    "    return None # Si todos se repiten, retornamos None."
   ]
  },
  {
   "cell_type": "code",
   "execution_count": 8,
   "metadata": {},
   "outputs": [
    {
     "name": "stdout",
     "output_type": "stream",
     "text": [
      "c\n",
      "None\n",
      "l\n",
      "w\n"
     ]
    }
   ],
   "source": [
    "# Pruebas.\n",
    "print(cararcter_no_repetido(\"abacabad\"))\n",
    "print(cararcter_no_repetido(\"aabbcc\"))\n",
    "print(cararcter_no_repetido(\"leetcode\"))\n",
    "print(cararcter_no_repetido(\"swiss\"))"
   ]
  },
  {
   "cell_type": "markdown",
   "metadata": {},
   "source": [
    "#### Ejercicio 5: Suma de pares e impares.\n",
    "\n",
    "Escribe una función que reciba una lista de números enteros y devuelva una tupla con dos valores:\n",
    "\n",
    "* La suma de los números pares.\n",
    "* La suma de los números impares."
   ]
  },
  {
   "cell_type": "code",
   "execution_count": 9,
   "metadata": {},
   "outputs": [],
   "source": [
    "def suma_pares_impares(numeros):\n",
    "    \n",
    "    suma_pares = sum(n for n in numeros if n % 2 == 0)\n",
    "    suma_impares = sum(n for n in numeros if n % 2 != 0)\n",
    "    return (suma_pares, suma_impares)"
   ]
  },
  {
   "cell_type": "code",
   "execution_count": 10,
   "metadata": {},
   "outputs": [
    {
     "name": "stdout",
     "output_type": "stream",
     "text": [
      "(12, 9)\n",
      "(40, 62)\n",
      "(0, 0)\n",
      "(18, 16)\n"
     ]
    }
   ],
   "source": [
    "# Pruebas.\n",
    "print(suma_pares_impares([1, 2, 3, 4, 5, 6]))\n",
    "print(suma_pares_impares([10, 21, 30, 41]))\n",
    "print(suma_pares_impares([]))\n",
    "print(suma_pares_impares([7, 8, 9, 10]))"
   ]
  },
  {
   "cell_type": "markdown",
   "metadata": {},
   "source": [
    "#### Ejercicio 6: Diferencia entre suma de pares e impares.\n",
    "\n",
    "Calcula la diferencia absoluta entre las sumas de pares e impares."
   ]
  },
  {
   "cell_type": "code",
   "execution_count": 14,
   "metadata": {},
   "outputs": [],
   "source": [
    "def diferencia_pares_impares(numeros):\n",
    "\n",
    "    suma_pares = sum(n for n in numeros if n % 2 == 0)\n",
    "    suma_impares = sum(n for n in numeros if n % 2 != 0)\n",
    "\n",
    "    return abs(suma_pares - suma_impares)"
   ]
  },
  {
   "cell_type": "code",
   "execution_count": 15,
   "metadata": {},
   "outputs": [
    {
     "name": "stdout",
     "output_type": "stream",
     "text": [
      "3\n",
      "22\n",
      "0\n"
     ]
    }
   ],
   "source": [
    "# Pruebas.\n",
    "print(diferencia_pares_impares([1, 2, 3, 4, 5, 6]))\n",
    "print(diferencia_pares_impares([10, 21, 30, 41]))\n",
    "print(diferencia_pares_impares([]))"
   ]
  },
  {
   "cell_type": "markdown",
   "metadata": {},
   "source": [
    "#### Ejercicio 7: Suma de dígitos pares e impares en un número.\n",
    "\n",
    "En este ejercicio, vamos a trabajar con números enteros, pero en lugar de sumar los números de una lista, sumaremos los dígitos pares e impares de un número.\n",
    "\n",
    "* Escribir una función que reciba un número entero positivo.\n",
    "* Suma los dígitos pares e impares del número por separado.\n",
    "* Devuelve la diferencia absoluta entre ambas sumas."
   ]
  },
  {
   "cell_type": "code",
   "execution_count": 16,
   "metadata": {},
   "outputs": [],
   "source": [
    "def diferencia_digitos(numero):\n",
    "\n",
    "    suma_pares = sum(int(d) for d in str(numero) if int(d) % 2 == 0)\n",
    "    suma_impares = sum(int(d) for d in str(numero) if int(d) % 2 != 0)\n",
    "\n",
    "    return abs(suma_pares - suma_impares)"
   ]
  },
  {
   "cell_type": "code",
   "execution_count": 17,
   "metadata": {},
   "outputs": [
    {
     "name": "stdout",
     "output_type": "stream",
     "text": [
      "3\n",
      "3\n",
      "12\n",
      "25\n",
      "0\n"
     ]
    }
   ],
   "source": [
    "# Pruebas.\n",
    "print(diferencia_digitos(123456))   # 3\n",
    "print(diferencia_digitos(987654))   # 3\n",
    "print(diferencia_digitos(222222))   # 12\n",
    "print(diferencia_digitos(13579))    # 15\n",
    "print(diferencia_digitos(0))        # 0"
   ]
  }
 ],
 "metadata": {
  "kernelspec": {
   "display_name": "Python 3",
   "language": "python",
   "name": "python3"
  },
  "language_info": {
   "codemirror_mode": {
    "name": "ipython",
    "version": 3
   },
   "file_extension": ".py",
   "mimetype": "text/x-python",
   "name": "python",
   "nbconvert_exporter": "python",
   "pygments_lexer": "ipython3",
   "version": "3.10.10"
  }
 },
 "nbformat": 4,
 "nbformat_minor": 2
}
