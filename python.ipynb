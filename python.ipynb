{
 "cells": [
  {
   "cell_type": "markdown",
   "metadata": {},
   "source": [
    "#### Ejercicio 1: Suma de números en un rango.\n",
    "\n",
    "Escribe una función que reciba dos números enteros, **a** y **b**, y retorne la suma de todos los enteros entre ellos, incluyendo **a** y **b**.\n",
    "\n",
    "Condiciones:\n",
    "\n",
    "* Si **a** es mayor que **b**, intercambialos antes de sumar.\n",
    "* Si **a** y **b** son iguales, la función debe retornar solo ese número."
   ]
  },
  {
   "cell_type": "code",
   "execution_count": 1,
   "metadata": {},
   "outputs": [],
   "source": [
    "def sumar_rango(a, b):\n",
    "    \n",
    "    if a > b:\n",
    "        a, b = b, a # Intercambiamos los valores si están en orden inverso.\n",
    "    return sum(range(a, b + 1))"
   ]
  },
  {
   "cell_type": "code",
   "execution_count": null,
   "metadata": {},
   "outputs": [
    {
     "name": "stdout",
     "output_type": "stream",
     "text": [
      "15\n",
      "15\n",
      "3\n"
     ]
    }
   ],
   "source": [
    "# Purebas.\n",
    "print(sumar_rango(1, 5))\n",
    "print(sumar_rango(5, 1))\n",
    "print(sumar_rango(3, 3))"
   ]
  },
  {
   "cell_type": "markdown",
   "metadata": {},
   "source": [
    "#### Ejercicio 2: Números felices.\n",
    "\n",
    "Un número se llama feliz si, al reemplazarlo repetidamente por la suma de los cuadrados de sus dígitos, eventualmente se convierte en 1. Si entra en un ciclo sin llegar a 1, se considera un número infeliz.\n",
    "\n",
    "Ejemplo de entrada y salida:\n",
    "\n",
    "es_feliz(19)  # Devuelve True, porque sigue la secuencia: 19 → 82 → 68 → 100 → 1  \n",
    "es_feliz(2)   # Devuelve False, porque entra en un ciclo infinito"
   ]
  },
  {
   "cell_type": "code",
   "execution_count": 3,
   "metadata": {},
   "outputs": [],
   "source": [
    "def es_feliz(numero):\n",
    "\n",
    "    visitados = set()\n",
    "\n",
    "    while numero != 1 and numero not in visitados:\n",
    "        visitados.add(numero)\n",
    "        numero = sum(int(digito) ** 2 for digito in str(numero)) # Calcula la suma de los cuadrados de los dígitos\n",
    "\n",
    "    return numero == 1"
   ]
  },
  {
   "cell_type": "code",
   "execution_count": 4,
   "metadata": {},
   "outputs": [
    {
     "name": "stdout",
     "output_type": "stream",
     "text": [
      "True\n",
      "False\n",
      "True\n"
     ]
    }
   ],
   "source": [
    "# Pruebas.\n",
    "print(es_feliz(19))\n",
    "print(es_feliz(2))\n",
    "print(es_feliz(7))"
   ]
  },
  {
   "cell_type": "markdown",
   "metadata": {},
   "source": [
    "#### Ejercicio 3: Mayor secuencia de dígitos consecutivos en un string.\n",
    "\n",
    "Dado un string que contiene letras y números, encuentra la secuencia de dígitos consecutivos más larga y retorna su valor como un string."
   ]
  },
  {
   "cell_type": "code",
   "execution_count": 5,
   "metadata": {},
   "outputs": [],
   "source": [
    "import re\n",
    "\n",
    "def numeros_consecutivos(texto):\n",
    "\n",
    "    secuencias = re.findall(r'\\d+', texto)\n",
    "    return max(secuencias, key = len, default = '')"
   ]
  },
  {
   "cell_type": "code",
   "execution_count": 6,
   "metadata": {},
   "outputs": [
    {
     "name": "stdout",
     "output_type": "stream",
     "text": [
      "12345\n",
      "333\n",
      "\n",
      "3456\n"
     ]
    }
   ],
   "source": [
    "# Pruebas.\n",
    "print(numeros_consecutivos(\"abc12345def67\"))\n",
    "print(numeros_consecutivos(\"a1b22c333\"))\n",
    "print(numeros_consecutivos(\"abcdef\"))\n",
    "print(numeros_consecutivos(\"12a3456b78\"))"
   ]
  },
  {
   "cell_type": "markdown",
   "metadata": {},
   "source": [
    "#### Ejercicio 4: Primer carácter no repetido.\n",
    "\n",
    "Dado un string, encuentra el primer carácter que no se repite y devuelve ese carácter. Si todos los caracteres se repiten, devuelve None."
   ]
  },
  {
   "cell_type": "code",
   "execution_count": 7,
   "metadata": {},
   "outputs": [],
   "source": [
    "from collections import Counter\n",
    "\n",
    "def cararcter_no_repetido(texto):\n",
    "\n",
    "    conteo = Counter(texto) # Contamos la frecuencia de cada carácter.\n",
    "    for c in conteo:\n",
    "        if conteo[c] == 1:\n",
    "            return c\n",
    "        \n",
    "    return None # Si todos se repiten, retornamos None."
   ]
  },
  {
   "cell_type": "code",
   "execution_count": 8,
   "metadata": {},
   "outputs": [
    {
     "name": "stdout",
     "output_type": "stream",
     "text": [
      "c\n",
      "None\n",
      "l\n",
      "w\n"
     ]
    }
   ],
   "source": [
    "# Pruebas.\n",
    "print(cararcter_no_repetido(\"abacabad\"))\n",
    "print(cararcter_no_repetido(\"aabbcc\"))\n",
    "print(cararcter_no_repetido(\"leetcode\"))\n",
    "print(cararcter_no_repetido(\"swiss\"))"
   ]
  },
  {
   "cell_type": "markdown",
   "metadata": {},
   "source": [
    "#### Ejercicio 5: Suma de pares e impares.\n",
    "\n",
    "Escribe una función que reciba una lista de números enteros y devuelva una tupla con dos valores:\n",
    "\n",
    "* La suma de los números pares.\n",
    "* La suma de los números impares."
   ]
  },
  {
   "cell_type": "code",
   "execution_count": 9,
   "metadata": {},
   "outputs": [],
   "source": [
    "def suma_pares_impares(numeros):\n",
    "    \n",
    "    suma_pares = sum(n for n in numeros if n % 2 == 0)\n",
    "    suma_impares = sum(n for n in numeros if n % 2 != 0)\n",
    "    return (suma_pares, suma_impares)"
   ]
  },
  {
   "cell_type": "code",
   "execution_count": 10,
   "metadata": {},
   "outputs": [
    {
     "name": "stdout",
     "output_type": "stream",
     "text": [
      "(12, 9)\n",
      "(40, 62)\n",
      "(0, 0)\n",
      "(18, 16)\n"
     ]
    }
   ],
   "source": [
    "# Pruebas.\n",
    "print(suma_pares_impares([1, 2, 3, 4, 5, 6]))\n",
    "print(suma_pares_impares([10, 21, 30, 41]))\n",
    "print(suma_pares_impares([]))\n",
    "print(suma_pares_impares([7, 8, 9, 10]))"
   ]
  },
  {
   "cell_type": "markdown",
   "metadata": {},
   "source": [
    "#### Ejercicio 6: Diferencia entre suma de pares e impares.\n",
    "\n",
    "Calcula la diferencia absoluta entre las sumas de pares e impares."
   ]
  },
  {
   "cell_type": "code",
   "execution_count": 14,
   "metadata": {},
   "outputs": [],
   "source": [
    "def diferencia_pares_impares(numeros):\n",
    "\n",
    "    suma_pares = sum(n for n in numeros if n % 2 == 0)\n",
    "    suma_impares = sum(n for n in numeros if n % 2 != 0)\n",
    "\n",
    "    return abs(suma_pares - suma_impares)"
   ]
  },
  {
   "cell_type": "code",
   "execution_count": 15,
   "metadata": {},
   "outputs": [
    {
     "name": "stdout",
     "output_type": "stream",
     "text": [
      "3\n",
      "22\n",
      "0\n"
     ]
    }
   ],
   "source": [
    "# Pruebas.\n",
    "print(diferencia_pares_impares([1, 2, 3, 4, 5, 6]))\n",
    "print(diferencia_pares_impares([10, 21, 30, 41]))\n",
    "print(diferencia_pares_impares([]))"
   ]
  },
  {
   "cell_type": "markdown",
   "metadata": {},
   "source": [
    "#### Ejercicio 7: Suma de dígitos pares e impares en un número.\n",
    "\n",
    "En este ejercicio, vamos a trabajar con números enteros, pero en lugar de sumar los números de una lista, sumaremos los dígitos pares e impares de un número.\n",
    "\n",
    "* Escribir una función que reciba un número entero positivo.\n",
    "* Suma los dígitos pares e impares del número por separado.\n",
    "* Devuelve la diferencia absoluta entre ambas sumas."
   ]
  },
  {
   "cell_type": "code",
   "execution_count": 16,
   "metadata": {},
   "outputs": [],
   "source": [
    "def diferencia_digitos(numero):\n",
    "\n",
    "    suma_pares = sum(int(d) for d in str(numero) if int(d) % 2 == 0)\n",
    "    suma_impares = sum(int(d) for d in str(numero) if int(d) % 2 != 0)\n",
    "\n",
    "    return abs(suma_pares - suma_impares)"
   ]
  },
  {
   "cell_type": "code",
   "execution_count": 17,
   "metadata": {},
   "outputs": [
    {
     "name": "stdout",
     "output_type": "stream",
     "text": [
      "3\n",
      "3\n",
      "12\n",
      "25\n",
      "0\n"
     ]
    }
   ],
   "source": [
    "# Pruebas.\n",
    "print(diferencia_digitos(123456))   # 3\n",
    "print(diferencia_digitos(987654))   # 3\n",
    "print(diferencia_digitos(222222))   # 12\n",
    "print(diferencia_digitos(13579))    # 15\n",
    "print(diferencia_digitos(0))        # 0"
   ]
  },
  {
   "cell_type": "markdown",
   "metadata": {},
   "source": [
    "#### Ejercicio 8: Dígitos únicos y repetidos en un número.\n",
    "\n",
    "Dado un número entero positivo, encuentra los dígitos únicos y los dígitos repetidos."
   ]
  },
  {
   "cell_type": "code",
   "execution_count": 1,
   "metadata": {},
   "outputs": [],
   "source": [
    "from collections import Counter\n",
    "\n",
    "def digitos_unicos_repetidos(numero):\n",
    "\n",
    "    conteo = Counter(str(numero))\n",
    "\n",
    "    unicos = [int(d) for d, c in conteo.items() if c == 1]\n",
    "    repetidos = [int(d) for d, c in conteo.items() if c > 1]\n",
    "\n",
    "    return {'unicos': unicos, 'repetidos': repetidos}"
   ]
  },
  {
   "cell_type": "code",
   "execution_count": null,
   "metadata": {},
   "outputs": [
    {
     "name": "stdout",
     "output_type": "stream",
     "text": [
      "{'unicos': [], 'repetidos': [1, 2, 3, 4, 5]}\n",
      "{'unicos': [1, 2, 3, 4, 5, 6, 7, 8, 9], 'repetidos': []}\n",
      "{'unicos': [1], 'repetidos': [2, 3, 4]}\n",
      "{'unicos': [9, 8, 7, 6, 5, 4, 3, 2, 1, 0], 'repetidos': []}\n"
     ]
    }
   ],
   "source": [
    "# Pruebas.\n",
    "print(digitos_unicos_repetidos(1122334455))\n",
    "print(digitos_unicos_repetidos(123456789))\n",
    "print(digitos_unicos_repetidos(1223334444))\n",
    "print(digitos_unicos_repetidos(9876543210))"
   ]
  },
  {
   "cell_type": "markdown",
   "metadata": {},
   "source": [
    "#### Ejercicio 9: Número con más dígitos repetidos.\n",
    "\n",
    "Dado un conjunto de números enteros, encuentra el número que tiene la mayor cantidad de repeticiones de un solo dígito."
   ]
  },
  {
   "cell_type": "code",
   "execution_count": 5,
   "metadata": {},
   "outputs": [],
   "source": [
    "from collections import Counter\n",
    "\n",
    "def numero_mas_repetido(numero):\n",
    "\n",
    "    def max_repeticion_digitos(n):\n",
    "        \n",
    "        conteo = Counter(str(n))\n",
    "        return max(conteo.values())\n",
    "    \n",
    "    return max(numero, key = max_repeticion_digitos)"
   ]
  },
  {
   "cell_type": "code",
   "execution_count": null,
   "metadata": {},
   "outputs": [
    {
     "name": "stdout",
     "output_type": "stream",
     "text": [
      "9999\n",
      "44445555\n",
      "123\n",
      "101\n"
     ]
    }
   ],
   "source": [
    "# Pruebas.\n",
    "print(numero_mas_repetido([1223, 4555, 6788, 9999]))\n",
    "print(numero_mas_repetido([112233, 44445555, 66677]))\n",
    "print(numero_mas_repetido([123, 456, 789]))\n",
    "print(numero_mas_repetido([101, 202, 303]))"
   ]
  },
  {
   "cell_type": "markdown",
   "metadata": {},
   "source": [
    "#### Ejercicio 10: Suma de números según patrón creciente.\n",
    "\n",
    "Dado un número entero positivo, genera una secuencia de sumas acumulativas siguiendo un patrón."
   ]
  },
  {
   "cell_type": "code",
   "execution_count": 7,
   "metadata": {},
   "outputs": [],
   "source": [
    "def suma_acumulativa(numero):\n",
    "\n",
    "    numeros = [int(d) for d in str(numero)]\n",
    "    acumulador = 0\n",
    "    resultado = []\n",
    "\n",
    "    for num in numeros:\n",
    "        acumulador += num\n",
    "        resultado.append(acumulador)\n",
    "\n",
    "    return resultado"
   ]
  },
  {
   "cell_type": "code",
   "execution_count": 8,
   "metadata": {},
   "outputs": [
    {
     "name": "stdout",
     "output_type": "stream",
     "text": [
      "[1, 3, 6, 10]\n",
      "[5, 11, 18, 26, 35]\n",
      "[9]\n"
     ]
    }
   ],
   "source": [
    "# Pruebas.\n",
    "print(suma_acumulativa(1234))\n",
    "print(suma_acumulativa(56789))\n",
    "print(suma_acumulativa(9))"
   ]
  },
  {
   "cell_type": "markdown",
   "metadata": {},
   "source": [
    "#### Ejercicio 11: Números equilibrados.\n",
    "\n",
    "Un número se considera equilibrado si la suma de sus dígitos de la primera mitad es igual a la suma de los dígitos de la segunda mitad."
   ]
  },
  {
   "cell_type": "code",
   "execution_count": 9,
   "metadata": {},
   "outputs": [],
   "source": [
    "def numero_equilibrado(numero):\n",
    "\n",
    "    numeros = str(numero)\n",
    "    longitud = len(numeros)\n",
    "\n",
    "    if longitud % 2 == 0:\n",
    "        mitad1 = numeros[:longitud // 2]\n",
    "        mitad2 = numeros[longitud // 2:]\n",
    "    else:\n",
    "        mitad1 = numeros[:longitud // 2]\n",
    "        mitad2 = numeros[longitud // 2 + 1:]\n",
    "\n",
    "    return sum(map(int, mitad1)) == sum(map(int, mitad2))"
   ]
  },
  {
   "cell_type": "code",
   "execution_count": null,
   "metadata": {},
   "outputs": [
    {
     "name": "stdout",
     "output_type": "stream",
     "text": [
      "True\n",
      "False\n",
      "False\n",
      "True\n",
      "True\n"
     ]
    }
   ],
   "source": [
    "# Pruebas.\n",
    "print(numero_equilibrado(1230))\n",
    "print(numero_equilibrado(56298))\n",
    "print(numero_equilibrado(123456))\n",
    "print(numero_equilibrado(777777))\n",
    "print(numero_equilibrado(1114111))"
   ]
  },
  {
   "cell_type": "markdown",
   "metadata": {},
   "source": [
    "#### Ejercicio 12: Números espejos.\n",
    "\n",
    "Un número es un espejo si la primera mitad de sus dígitos es igual a la segunda mitad, pero en orden inverso."
   ]
  },
  {
   "cell_type": "code",
   "execution_count": 13,
   "metadata": {},
   "outputs": [],
   "source": [
    "def numero_espejo(numero):\n",
    "\n",
    "    numeros = str(numero)\n",
    "    longitud = len(numeros)\n",
    "\n",
    "    if longitud % 2 == 0:\n",
    "        mitad1 = numeros[:longitud // 2]\n",
    "        mitad2 = numeros[longitud // 2:]\n",
    "\n",
    "    else:\n",
    "        mitad1 = numeros[:longitud // 2]\n",
    "        mitad2 = numeros[longitud // 2 + 1:]\n",
    "\n",
    "    return mitad1 == mitad2[::-1]"
   ]
  },
  {
   "cell_type": "code",
   "execution_count": 14,
   "metadata": {},
   "outputs": [
    {
     "name": "stdout",
     "output_type": "stream",
     "text": [
      "True\n",
      "True\n",
      "False\n",
      "True\n",
      "True\n",
      "True\n"
     ]
    }
   ],
   "source": [
    "# Pruebas.\n",
    "print(numero_espejo(1221))\n",
    "print(numero_espejo(567765))\n",
    "print(numero_espejo(123456))\n",
    "print(numero_espejo(78987))\n",
    "print(numero_espejo(444444))\n",
    "print(numero_espejo(123321))"
   ]
  },
  {
   "cell_type": "markdown",
   "metadata": {},
   "source": [
    "#### Ejercicio 13: Número con equilibrio ponderado.\n",
    "\n",
    "Un número tiene equilibrio ponderado si la suma de los dígitos de la primera mitad es igual a la suma de los dígitos de la segunda mitad, pero multiplicados por su posición en la mitad."
   ]
  },
  {
   "cell_type": "code",
   "execution_count": null,
   "metadata": {},
   "outputs": [],
   "source": [
    "def equilibrio_ponderado(numero):\n",
    "    \n",
    "    numeros = str(numero)\n",
    "    longitud = len(numeros)\n",
    "\n",
    "    if longitud % 2 == 0:\n",
    "        mitad1 = numeros[:longitud // 2]\n",
    "        mitad2 = numeros[longitud // 2:]\n",
    "    else:\n",
    "        mitad1 = numeros[:longitud // 2]\n",
    "        mitad2 = numeros[longitud // 2 + 1:]\n",
    "\n",
    "    suma_izquierda = sum(int(mitad1[i]) * (i + 1) for i in range(len(mitad1)))\n",
    "    suma_derecha = sum(int(mitad2[i]) * (i + 1) for i in range(len(mitad2)))\n",
    "\n",
    "    return suma_izquierda == suma_derecha"
   ]
  },
  {
   "cell_type": "code",
   "execution_count": 36,
   "metadata": {},
   "outputs": [
    {
     "name": "stdout",
     "output_type": "stream",
     "text": [
      "False\n",
      "False\n",
      "False\n",
      "True\n"
     ]
    }
   ],
   "source": [
    "# Pruebas.\n",
    "print(equilibrio_ponderado(1236))\n",
    "print(equilibrio_ponderado(1238))\n",
    "print(equilibrio_ponderado(12345))\n",
    "print(equilibrio_ponderado(123123))"
   ]
  },
  {
   "cell_type": "markdown",
   "metadata": {},
   "source": [
    "#### Ejercicio 14: Ruta óptima de un laberinto.\n",
    "\n",
    "Tienes un laberinto representado como una matriz de 0s y 1s, donde:\n",
    "\n",
    "* 0 representa un camino transitable.\n",
    "* 1 representa una pared intransitable.\n",
    "\n",
    "Tienes que encontrar la ruta más corta desde la esquina superior izquierda hasta la esquina inferior derecha,solo moviendote arriba, abajo, izquierda o derecha."
   ]
  },
  {
   "cell_type": "code",
   "execution_count": 41,
   "metadata": {},
   "outputs": [],
   "source": [
    "from collections import deque\n",
    "\n",
    "def ruta_mas_corta(laberinto):\n",
    "\n",
    "    if not laberinto or laberinto[0][0] == 1:\n",
    "        return -1\n",
    "    \n",
    "    filas, columnas = len(laberinto), len(laberinto[0])\n",
    "    movimientos = [(0, 1), (0, -1), (1, 0), (-1, 0)]\n",
    "    visitados = set()\n",
    "    cola = deque([(0, 0, 1)])\n",
    "\n",
    "    while cola:\n",
    "        fila, columna, pasos = cola.popleft()\n",
    "\n",
    "        if (fila, columna) == (filas - 1, columnas - 1):\n",
    "            return pasos\n",
    "        \n",
    "        for df, dc in movimientos:\n",
    "            nueva_fila, nueva_columna = fila + df, columna + dc\n",
    "\n",
    "            if (0 <= nueva_fila < filas and 0 <= nueva_columna < columnas and\n",
    "                laberinto[nueva_fila][nueva_columna] == 0 and (nueva_fila, nueva_columna) not in visitados):\n",
    "\n",
    "                visitados.add((nueva_fila, nueva_columna))\n",
    "                cola.append((nueva_fila, nueva_columna, pasos + 1))\n",
    "\n",
    "    return -1"
   ]
  },
  {
   "cell_type": "code",
   "execution_count": 42,
   "metadata": {},
   "outputs": [
    {
     "name": "stdout",
     "output_type": "stream",
     "text": [
      "9\n"
     ]
    }
   ],
   "source": [
    "# Prueba.\n",
    "laberinto = [\n",
    "    [0, 1, 0, 0, 0],\n",
    "    [0, 1, 0, 1, 0],\n",
    "    [0, 0, 0, 1, 0],\n",
    "    [1, 1, 0, 0, 0],\n",
    "    [0, 0, 0, 1, 0]\n",
    "]\n",
    "\n",
    "print(ruta_mas_corta(laberinto))"
   ]
  },
  {
   "cell_type": "markdown",
   "metadata": {},
   "source": [
    "#### Ejercicio 15: Palabras ocultas.\n",
    "\n",
    "El usuario ingresará una frase y una palabra oculta. Tu tarea es determinar si la palabra oculta está dentro de la frase sin importar mayúsculas o minúsculas y mostrar un mensaje adecuado."
   ]
  },
  {
   "cell_type": "code",
   "execution_count": 44,
   "metadata": {},
   "outputs": [
    {
     "name": "stdout",
     "output_type": "stream",
     "text": [
      "La palabra \"color\" está en la frase.\n"
     ]
    }
   ],
   "source": [
    "def buscar_palabra():\n",
    "\n",
    "    frase = input('Ingrese una frase.').lower()\n",
    "    palabra = input('Ingrese la palabra oculta.').lower()\n",
    "\n",
    "    if palabra in frase:\n",
    "        print(f'La palabra \"{palabra}\" está en la frase.')\n",
    "    \n",
    "    else:\n",
    "        print(f'La palabra \"{palabra}\" no está en la frase')\n",
    "\n",
    "buscar_palabra()"
   ]
  },
  {
   "cell_type": "markdown",
   "metadata": {},
   "source": [
    "#### Ejercicio 16: Primera letra en mayúscula.\n",
    "\n",
    "El usuario ingresará una frase, y debes devolverla con cada palabra iniciando en mayúscula, sin cambiar el resto de las letras."
   ]
  },
  {
   "cell_type": "code",
   "execution_count": 48,
   "metadata": {},
   "outputs": [
    {
     "data": {
      "text/plain": [
       "'Hola Mundo Como Estan'"
      ]
     },
     "execution_count": 48,
     "metadata": {},
     "output_type": "execute_result"
    }
   ],
   "source": [
    "def letra_mayscula():\n",
    "\n",
    "    frase = input('Ingresa una frase.')\n",
    "\n",
    "    frase_formateada = ' '.join(palabra.capitalize() for palabra in frase.split())\n",
    "\n",
    "    return frase_formateada\n",
    "\n",
    "letra_mayscula()"
   ]
  },
  {
   "cell_type": "markdown",
   "metadata": {},
   "source": [
    "#### Ejercicio 17: Análisis de texto y frecuencia de palabras.\n",
    "\n",
    "Escribe un programa que:\n",
    "\n",
    "1. Solicite al usuario una frase.\n",
    "2. Solicite una palabra a buscar dentro de la frase.\n",
    "3. Muetre la frase con cada palabra iniciando en mayuscula.\n",
    "4. Cuente cuántas veces aparece la palabra en la frase.\n",
    "5. Muentre las palabras únicas (sin repetir) en la frase, ordenadas alfabéticamente."
   ]
  },
  {
   "cell_type": "code",
   "execution_count": 54,
   "metadata": {},
   "outputs": [
    {
     "name": "stdout",
     "output_type": "stream",
     "text": [
      "\n",
      "Frase formateada: \"En El Día De Hoy, Estuve Aprendiendo Python, Python Es El Lenguaje De Programación Que Más Me Gusta, Amo Python\"\n",
      "La palabra \"python\" aparece 2 veces.\n",
      "Palabras únicas en la frase: ['En', 'amo', 'aprendiendo', 'de', 'día', 'el', 'es', 'estuve', 'gusta,', 'hoy,', 'lenguaje', 'me', 'más', 'programación', 'python', 'python,', 'que']\n"
     ]
    }
   ],
   "source": [
    "def analisis_frecuencia():\n",
    "\n",
    "    frase = input('Ingrese una frase.')\n",
    "    palabra = input('Elija una palabra oculta')\n",
    "\n",
    "    frase_formateada = ' '.join(p.capitalize() for p in frase.split())\n",
    "\n",
    "    palabras = frase.lower().split()\n",
    "    palabra_buscar = palabra.lower()\n",
    "    conteo = palabras.count(palabra_buscar)\n",
    "\n",
    "    palabras_unicas = sorted(set(frase.split()))\n",
    "\n",
    "    print(f'\\nFrase formateada: \"{frase_formateada}\"')\n",
    "    print(f'La palabra \"{palabra_buscar}\" aparece {conteo} veces.')\n",
    "    print(f'Palabras únicas en la frase: {palabras_unicas}')\n",
    "\n",
    "analisis_frecuencia()"
   ]
  },
  {
   "cell_type": "markdown",
   "metadata": {},
   "source": [
    "#### Ejercicio 18: Cifrado César.\n",
    "\n",
    "El usuario ingresará un mensaje y un número de desplazamiento. Tu tarea es aplicar el **Cifrado César**, desplazando cada letra del mensaje tantas posiciones en el abecedario como indique el número ingresado."
   ]
  },
  {
   "cell_type": "code",
   "execution_count": 55,
   "metadata": {},
   "outputs": [
    {
     "name": "stdout",
     "output_type": "stream",
     "text": [
      "Mensaje cifrado: Jqnc owpfq\n"
     ]
    }
   ],
   "source": [
    "def cifrado_cesar():\n",
    "\n",
    "    mensaje = input('Ingrese un mensaje.')\n",
    "    desplazamiento = int(input('Ingrese el desplazamiento.'))\n",
    "\n",
    "    mensaje_cifrado = ''\n",
    "\n",
    "    for caracter in mensaje:\n",
    "        if caracter.isalpha():\n",
    "            base = ord('A') if caracter.isupper() else ord('a')\n",
    "            nuevo_caracter = chr((ord(caracter) - base + desplazamiento) % 26 + base)\n",
    "            mensaje_cifrado += nuevo_caracter\n",
    "        \n",
    "        else:\n",
    "            mensaje_cifrado += caracter # No modificamos espacios ni carácteres especiales.\n",
    "\n",
    "    print(f'Mensaje cifrado: {mensaje_cifrado}')\n",
    "\n",
    "cifrado_cesar()"
   ]
  },
  {
   "cell_type": "markdown",
   "metadata": {},
   "source": [
    "#### Ejercicio 19: Palíndromos con transformaciones.\n",
    "\n",
    "Un palíndromo es una palabra o frase que se lee igual de adelante hacia atras (ignorando espacios y puntuaciones).\n",
    "\n",
    "1. Solicitar al usuario una frase o palabra.\n",
    "2. Eliminar espacios, tildes y signos de puntuación.\n",
    "3. Convertir todo a minúsculas para que la comparación no distinga mayúsculas.\n",
    "4. Verificar si la frase o palabra es un palíndromo.\n",
    "5. Mostrar el resultado indicando si es o no un palíndromo."
   ]
  },
  {
   "cell_type": "code",
   "execution_count": 57,
   "metadata": {},
   "outputs": [
    {
     "name": "stdout",
     "output_type": "stream",
     "text": [
      "No es un palíndromo.\n"
     ]
    }
   ],
   "source": [
    "import unicodedata\n",
    "import string\n",
    "\n",
    "def limpiar_texto(texto):\n",
    "\n",
    "    texto = unicodedata.normalize('NFD', texto)\n",
    "    texto = ''.join(c for c in texto if unicodedata.category(c) != 'Mn')\n",
    "\n",
    "    texto = texto.lower()\n",
    "    texto = ''.join(c for c in texto if c.isalnum())\n",
    "\n",
    "    return texto\n",
    "\n",
    "def es_palindromo():\n",
    "\n",
    "    texto_original = input('Ingrese una palabra o una frase.')\n",
    "\n",
    "    texto_limpio = limpiar_texto(texto_original)\n",
    "\n",
    "    if texto_limpio == texto_limpio[::-1]:\n",
    "        print('Es un palíndromo.')\n",
    "    \n",
    "    else:\n",
    "        print('No es un palíndromo.')\n",
    "\n",
    "es_palindromo()"
   ]
  },
  {
   "cell_type": "markdown",
   "metadata": {},
   "source": [
    "#### Ejercicio 20: Generador de contraseñas seguras.\n",
    "\n",
    "Crea un programa que genere contraseñas seguras de una longitud dada por el usuario.\n",
    "\n",
    "1. Pedir al usuario la longitud de la contraseña.\n",
    "2. La contraseña debe tener letras mayúsculas, minúsculas, números y caracteres especiales.\n",
    "3. La contraseña generada debe ser aleatoria en cada ejecución."
   ]
  },
  {
   "cell_type": "code",
   "execution_count": 62,
   "metadata": {},
   "outputs": [
    {
     "name": "stdout",
     "output_type": "stream",
     "text": [
      "Contraseña generada: 41wa/|C?e/bmc}:`#C\"B\n"
     ]
    }
   ],
   "source": [
    "import random\n",
    "import string\n",
    "\n",
    "def generar_contraseña(longitud):\n",
    "\n",
    "    if longitud < 4:\n",
    "        print('La longitud mínima recomendada es 4.')\n",
    "        return None\n",
    "    \n",
    "    letras_mayusculas = string.ascii_uppercase\n",
    "    letras_minusculas = string.ascii_lowercase\n",
    "    numeros = string.digits\n",
    "    especiales = string.punctuation\n",
    "\n",
    "    caracteres_obligatorios = [\n",
    "        random.choice(letras_mayusculas),\n",
    "        random.choice(letras_minusculas),\n",
    "        random.choice(numeros),\n",
    "        random.choice(especiales)\n",
    "    ]\n",
    "\n",
    "    todos_caracteres = letras_mayusculas + letras_minusculas + numeros + especiales\n",
    "    caracteres_restantes = [random.choice(todos_caracteres) for _ in range(longitud - 4)]\n",
    "\n",
    "    contraseña = caracteres_obligatorios + caracteres_restantes\n",
    "    random.shuffle(contraseña)\n",
    "\n",
    "    return ''.join(contraseña)\n",
    "\n",
    "longitud = int(input('Ingrese la longitud de la contraseña.'))\n",
    "contraseña = generar_contraseña(longitud)\n",
    "\n",
    "if contraseña:\n",
    "    print(f'Contraseña generada: {contraseña}')"
   ]
  },
  {
   "cell_type": "markdown",
   "metadata": {},
   "source": [
    "#### Ejercicio 21: Frecuencia de palabras en un texto.\n",
    "\n",
    "Crea un programa que analice un texto ingresado por el usuario y cuente cuántas veces aparece cada palabra."
   ]
  },
  {
   "cell_type": "code",
   "execution_count": 64,
   "metadata": {},
   "outputs": [
    {
     "name": "stdout",
     "output_type": "stream",
     "text": [
      "\n",
      "Frecuencia de palabras:\n",
      "yo -> 5\n",
      "hola -> 4\n",
      "soy -> 2\n",
      "una -> 1\n",
      "bestia -> 1\n",
      "porque -> 1\n",
      "y -> 1\n",
      "querio -> 1\n",
      "ser -> 1\n",
      "siempre -> 1\n",
      "como -> 1\n"
     ]
    }
   ],
   "source": [
    "import string\n",
    "from collections import Counter\n",
    "\n",
    "def limpiar_texto(texto):\n",
    "\n",
    "    texto = texto.lower()\n",
    "    texto = texto.translate(str.maketrans('', '', string.punctuation))\n",
    "\n",
    "    return texto\n",
    "\n",
    "def contar_palabras(texto):\n",
    "\n",
    "    texto_limpio = limpiar_texto(texto)\n",
    "    palabras = texto_limpio.split()\n",
    "    frecuencia = Counter(palabras)\n",
    "\n",
    "    return frecuencia\n",
    "\n",
    "def mostrar_frecuencia(frecuencia):\n",
    "\n",
    "    frecuencia_ordenada = sorted(frecuencia.items(), key = lambda x: x[1], reverse = True)\n",
    "\n",
    "    print('\\nFrecuencia de palabras:')\n",
    "    for palabra, cantidad in frecuencia_ordenada:\n",
    "        print(f'{palabra} -> {cantidad}')\n",
    "\n",
    "texto_usuario = input('Ingrese un texto.')\n",
    "frecuencia_palabras = contar_palabras(texto_usuario)\n",
    "\n",
    "mostrar_frecuencia(frecuencia_palabras)"
   ]
  },
  {
   "cell_type": "markdown",
   "metadata": {},
   "source": [
    "#### Ejercicio 22: Análisis de números en un texto.\n",
    "\n",
    "Crea un programa que analice un texto ingresado por el usuario y extraiga los números presentes en él, mostrando estadísticas sobre ellos.\n",
    "\n",
    "1. Lista de números encontrados.\n",
    "2. El número más grande y el más pequeño.\n",
    "3. La suma y el promedio de los números."
   ]
  },
  {
   "cell_type": "code",
   "execution_count": 65,
   "metadata": {},
   "outputs": [
    {
     "name": "stdout",
     "output_type": "stream",
     "text": [
      "\n",
      "Numeros encontrados: [234, 23.3, 3, 3]\n",
      "Número más grande: 234\n",
      "Número más pequeño: 3\n",
      "Suma total: 263.3\n",
      "Promedio: 65.83\n"
     ]
    }
   ],
   "source": [
    "import re\n",
    "\n",
    "def extraer_numeros(texto):\n",
    "\n",
    "    numeros_encontrados = re.findall(r'\\d+\\.\\d+|\\d+', texto)\n",
    "    numeros = [float(n) if '.' in n else int(n) for n in numeros_encontrados]\n",
    "\n",
    "    return numeros\n",
    "\n",
    "def calcular_estadisticas(numeros):\n",
    "\n",
    "    if not numeros:\n",
    "        print('No se encontraron números en el texto.')\n",
    "        return\n",
    "    \n",
    "    print(f'\\nNumeros encontrados: {numeros}')\n",
    "    print(f'Número más grande: {max(numeros)}')\n",
    "    print(f'Número más pequeño: {min(numeros)}')\n",
    "    print(f'Suma total: {sum(numeros)}')\n",
    "    print(f'Promedio: {sum(numeros) / len(numeros):.2f}')\n",
    "\n",
    "texto_usuario = input('Ingrese un texto.')\n",
    "\n",
    "numeros = extraer_numeros(texto_usuario)\n",
    "calcular_estadisticas(numeros)"
   ]
  },
  {
   "cell_type": "markdown",
   "metadata": {},
   "source": [
    "#### Ejercicio 23: Análisis de texto con caracteres especiales y números.\n",
    "\n",
    "Crea un programa que analice un texto ingresado por el usuario y haga lo siguiente:\n",
    "\n",
    "1. Contar la frecuencia de cada palabra en el texto.\n",
    "2. Extraer todos los números presentes en el texto y calcular estadísticas (suma, promedio, mayor y menor)\n",
    "3. Determinar cuántos caracteres especiales hay en el texto."
   ]
  },
  {
   "cell_type": "code",
   "execution_count": null,
   "metadata": {},
   "outputs": [
    {
     "name": "stdout",
     "output_type": "stream",
     "text": [
      "\n",
      "Frecuencia de palabras:\n",
      "hola -> 1\n",
      "@usuario -> 1\n",
      "tengo -> 1\n",
      "3 -> 1\n",
      "gatos -> 1\n",
      "y -> 1\n",
      "2 -> 1\n",
      "perros -> 1\n",
      "gasté -> 1\n",
      "$205 -> 1\n",
      "en -> 1\n",
      "comida -> 1\n",
      "None\n",
      "\n",
      " ('Números encontrados: [3, 2, 20.5]\\n', 'Número más grande: 20.5\\n', 'Número más pequeño: 2\\n', 'Suma total: 25.5\\n', 'Promedio: 8.50')\n",
      "\n",
      "Caracteres especiales encontrados: ['@', '!', '$']\n",
      "Cantidad total de caracteres especiales: 3\n"
     ]
    }
   ],
   "source": [
    "import re\n",
    "import string\n",
    "\n",
    "from collections import Counter\n",
    "\n",
    "def limpiar_texto(texto):\n",
    "    \n",
    "    texto = texto.lower()\n",
    "    texto = texto.translate(str.maketrans('', '', string.punctuation.replace('@', '').replace('#', '').replace('$', '')))\n",
    "\n",
    "    return texto\n",
    "\n",
    "def contar_palabras2(texto):\n",
    "\n",
    "    palabras = limpiar_texto(texto).split()\n",
    "    frecuencia = Counter(palabras)\n",
    "\n",
    "    return frecuencia\n",
    "\n",
    "def extraer_numeros(texto):\n",
    "\n",
    "    numeros_encontrados = re.findall(r'\\d+\\.\\d+|\\d+', texto)\n",
    "    numeros = [float(n) if '.' in n else int(n) for n in numeros_encontrados]\n",
    "\n",
    "    return numeros\n",
    "\n",
    "def extraer_caracteres_especiales(texto):\n",
    "\n",
    "    caracteres_especiales = re.findall(r'[@#$%^&*()_+=!?]', texto)\n",
    "\n",
    "    return caracteres_especiales\n",
    "\n",
    "def calcular_estadisticas(numeros):\n",
    "\n",
    "    if not numeros:\n",
    "        return 'No se encontraron números.'\n",
    "    \n",
    "    return (f'Números encontrados: {numeros}\\n',\n",
    "            f'Número más grande: {max(numeros)}\\n',\n",
    "            f'Número más pequeño: {min(numeros)}\\n',\n",
    "            f'Suma total: {sum(numeros)}\\n',\n",
    "            f'Promedio: {sum(numeros) / len(numeros):.2f}')\n",
    "\n",
    "def mostrar_frecuencias(frecuencia):\n",
    "\n",
    "    if not frecuencia:\n",
    "        return 'No se encontraron palabras.'\n",
    "    \n",
    "    resultado = '\\nFrecuencia de palabras:\\n'\n",
    "    resultado += '\\n'.join(f'{palabra} -> {cantidad}' for palabra, cantidad in sorted(frecuencia.items(), key = lambda x: x[1], reverse = True))\n",
    "\n",
    "    return resultado\n",
    "\n",
    "texto_usuario = input('Ingrese un texto.')\n",
    "\n",
    "frecuencia_palabras = contar_palabras2(texto_usuario)\n",
    "numeros = extraer_numeros(texto_usuario)\n",
    "caracteres_especiales = extraer_caracteres_especiales(texto_usuario)\n",
    "\n",
    "print(mostrar_frecuencia(frecuencia_palabras))\n",
    "print(\"\\n\", calcular_estadisticas(numeros))\n",
    "print(f'\\nCaracteres especiales encontrados: {caracteres_especiales}')\n",
    "print(f'Cantidad total de caracteres especiales: {len(caracteres_especiales)}')"
   ]
  },
  {
   "cell_type": "markdown",
   "metadata": {},
   "source": [
    "#### Ejercicio 24: Generador de contraseñas aleatorias.\n",
    "\n",
    "Crea un programa que genere una contraseña aleatoria con las siguientes características.\n",
    "\n",
    "1. Debe tener entre 8 y 16 caracteres.\n",
    "2. Debe incluir al menos una letra mayúscula, una minúscula, un número y un caracter especial.\n",
    "3. El usuario puede elegir la longitud de la contraseña (dentro del rango permitido).\n",
    "4. Si el usuario elige una longitud fuera del rango, debe pedirse nuevamente hasta que ingrese una válida."
   ]
  },
  {
   "cell_type": "code",
   "execution_count": 76,
   "metadata": {},
   "outputs": [
    {
     "name": "stdout",
     "output_type": "stream",
     "text": [
      "Error: lo longitud debe estar entre 8 y 16\n",
      "Error: lo longitud debe estar entre 8 y 16\n",
      "Contraseña generada: @?HaMRCr0tA42&\n"
     ]
    }
   ],
   "source": [
    "import random\n",
    "import string\n",
    "\n",
    "def generar_contraseña_aleatoria(longitud):\n",
    "\n",
    "    if longitud < 8 or longitud > 16:\n",
    "        return None\n",
    "    \n",
    "    mayusculas = string.ascii_uppercase\n",
    "    minusculas = string.ascii_lowercase\n",
    "    numeros = string.digits\n",
    "    especiales = \"@#$%&*?!\"\n",
    "\n",
    "    contraseña = [\n",
    "        random.choice(mayusculas),\n",
    "        random.choice(minusculas),\n",
    "        random.choice(numeros),\n",
    "        random.choice(especiales)\n",
    "    ]\n",
    "\n",
    "    todos = mayusculas + minusculas + numeros + especiales\n",
    "    contraseña += random.choices(todos, k = longitud - 4)\n",
    "\n",
    "    random.shuffle(contraseña)\n",
    "\n",
    "    return ''.join(contraseña)\n",
    "\n",
    "while True:\n",
    "\n",
    "    try:\n",
    "        longitud = int(input('Ingrese la longitud de la contraseña (entre 8 y 16).'))\n",
    "\n",
    "        if 8 <= longitud <= 16:\n",
    "            break\n",
    "\n",
    "        print('Error: lo longitud debe estar entre 8 y 16')\n",
    "\n",
    "    except ValueError:\n",
    "        print('Error: Ingrese un número válido.')\n",
    "\n",
    "contraseña_generada = generar_contraseña_aleatoria(longitud)\n",
    "print(f'Contraseña generada: {contraseña_generada}')"
   ]
  },
  {
   "cell_type": "markdown",
   "metadata": {},
   "source": [
    "#### Ejercicio 25: Contador de vocales y consonantes.\n",
    "\n",
    "Escribe un programa que pida una palabra o frase al usuario y cuente:\n",
    "\n",
    "1. Cuantas vocales tiene.\n",
    "2. Cuantas consonantes tiene (ignorando espacios y caracteres especiales).\n",
    "3. Si la palabra/frase tiene más vocales que consonantes o viceversa."
   ]
  },
  {
   "cell_type": "code",
   "execution_count": 77,
   "metadata": {},
   "outputs": [
    {
     "name": "stdout",
     "output_type": "stream",
     "text": [
      "\n",
      "Cantidad de vocales: 6\n",
      "Cantidad de consonantes: 7\n",
      "Resultado: Hay más consonantes que vocales.\n"
     ]
    }
   ],
   "source": [
    "def contar_vocales_consonantes(texto):\n",
    "\n",
    "    vocales = 'aeiouAEIOU'\n",
    "    consonantes = 'bcdfghjklmnpqrstvwxyzBCDFGHJKLMNPQRSTVWXYZ'\n",
    "\n",
    "    contador_vocales = 0\n",
    "    contador_consonantes = 0\n",
    "\n",
    "    for letra in texto:\n",
    "        if letra in vocales:\n",
    "            contador_vocales += 1\n",
    "        \n",
    "        elif letra in consonantes:\n",
    "            contador_consonantes +=1\n",
    "\n",
    "    if contador_vocales > contador_consonantes:\n",
    "        resultado = 'Hay más vocales que consonantes.'\n",
    "    \n",
    "    elif contador_vocales < contador_consonantes:\n",
    "        resultado = 'Hay más consonantes que vocales.'\n",
    "    \n",
    "    else:\n",
    "        resultado = 'Hay la misma cantidad de vocales y consonantes.'\n",
    "\n",
    "    return contador_vocales, contador_consonantes, resultado\n",
    "\n",
    "texto_usuario = input('Ingrese una palabra o frase.')\n",
    "\n",
    "vocales, consonantes, mensaje = contar_vocales_consonantes(texto_usuario)\n",
    "\n",
    "print(f'\\nCantidad de vocales: {vocales}')\n",
    "print(f'Cantidad de consonantes: {consonantes}')\n",
    "print(f'Resultado: {mensaje}')"
   ]
  }
 ],
 "metadata": {
  "kernelspec": {
   "display_name": "Python 3",
   "language": "python",
   "name": "python3"
  },
  "language_info": {
   "codemirror_mode": {
    "name": "ipython",
    "version": 3
   },
   "file_extension": ".py",
   "mimetype": "text/x-python",
   "name": "python",
   "nbconvert_exporter": "python",
   "pygments_lexer": "ipython3",
   "version": "3.10.10"
  }
 },
 "nbformat": 4,
 "nbformat_minor": 2
}
